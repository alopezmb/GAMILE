{
 "cells": [
  {
   "cell_type": "code",
   "execution_count": 1,
   "id": "aba06b31-a4b6-4af7-981c-77d7367fbc1f",
   "metadata": {},
   "outputs": [],
   "source": [
    "from pymongo import MongoClient\n",
    "import os\n",
    "import pandas as pd\n",
    "from IPython.display import display"
   ]
  },
  {
   "cell_type": "code",
   "execution_count": 2,
   "id": "bff40759-1cee-418b-9d48-2042626fe5fe",
   "metadata": {},
   "outputs": [],
   "source": [
    "# DB Connection\n",
    "CONNECTION_URI = os.getenv(\"MONGO_CONNECT\")\n",
    "client = MongoClient(CONNECTION_URI, connect=False)\n",
    "db = client.virtualmuseum\n",
    "Users = db['users']"
   ]
  },
  {
   "cell_type": "code",
   "execution_count": 4,
   "id": "605e8df0-abef-4afe-9019-9891ccda04c9",
   "metadata": {},
   "outputs": [],
   "source": [
    "# [OPTIONAL] CAUTION!! \n",
    "# DELETE VISITS\n",
    "# Users.update_one({}, {\"$set\": {\"visits\": []}})"
   ]
  },
  {
   "cell_type": "code",
   "execution_count": 7,
   "id": "8291ca98-b5fc-4855-aec5-e93d813e5a3a",
   "metadata": {},
   "outputs": [
    {
     "name": "stdout",
     "output_type": "stream",
     "text": [
      "0 visits registered.\n"
     ]
    }
   ],
   "source": [
    "# Get user with all visits\n",
    "user_info = Users.find_one({}, {\"visits\":1, \"username\": 1, \"_id\": 0})\n",
    "all_visits = user_info[\"visits\"]\n",
    "valid_visits = list(filter(lambda v: (isinstance(v,list) and len(v) > 1), all_visits))\n",
    "print(f\"{len(valid_visits)} visits registered.\")"
   ]
  },
  {
   "cell_type": "code",
   "execution_count": 63,
   "id": "101fb8de-70d7-429c-980e-edd98cc3c68f",
   "metadata": {},
   "outputs": [
    {
     "name": "stdout",
     "output_type": "stream",
     "text": [
      "**************\n",
      "Visit 1\n",
      "**************\n"
     ]
    },
    {
     "data": {
      "text/html": [
       "<div>\n",
       "<style scoped>\n",
       "    .dataframe tbody tr th:only-of-type {\n",
       "        vertical-align: middle;\n",
       "    }\n",
       "\n",
       "    .dataframe tbody tr th {\n",
       "        vertical-align: top;\n",
       "    }\n",
       "\n",
       "    .dataframe thead th {\n",
       "        text-align: right;\n",
       "    }\n",
       "</style>\n",
       "<table border=\"1\" class=\"dataframe\">\n",
       "  <thead>\n",
       "    <tr style=\"text-align: right;\">\n",
       "      <th></th>\n",
       "      <th>origin</th>\n",
       "      <th>destination</th>\n",
       "      <th>origin_timestamp</th>\n",
       "      <th>destination_timestamp</th>\n",
       "      <th>edge_weight</th>\n",
       "    </tr>\n",
       "  </thead>\n",
       "  <tbody>\n",
       "    <tr>\n",
       "      <th>0</th>\n",
       "      <td>D1-1</td>\n",
       "      <td>D1-5</td>\n",
       "      <td>0:00:00</td>\n",
       "      <td>0:00:14.774581</td>\n",
       "      <td>430.12</td>\n",
       "    </tr>\n",
       "    <tr>\n",
       "      <th>1</th>\n",
       "      <td>The Cardinal</td>\n",
       "      <td>D1-5</td>\n",
       "      <td>0:00:18.108925</td>\n",
       "      <td>0:00:26.812310</td>\n",
       "      <td>378.95</td>\n",
       "    </tr>\n",
       "    <tr>\n",
       "      <th>2</th>\n",
       "      <td>Las Meninas</td>\n",
       "      <td>Las tres Gracias</td>\n",
       "      <td>0:00:32.783864</td>\n",
       "      <td>0:00:45.401988</td>\n",
       "      <td>574.00</td>\n",
       "    </tr>\n",
       "    <tr>\n",
       "      <th>3</th>\n",
       "      <td>The Nobleman with his Hand on his Chest</td>\n",
       "      <td>The Garden of Earthly Delights</td>\n",
       "      <td>0:01:02.533413</td>\n",
       "      <td>0:01:09.103468</td>\n",
       "      <td>528.30</td>\n",
       "    </tr>\n",
       "  </tbody>\n",
       "</table>\n",
       "</div>"
      ],
      "text/plain": [
       "                                    origin                     destination  \\\n",
       "0                                     D1-1                            D1-5   \n",
       "1                             The Cardinal                            D1-5   \n",
       "2                              Las Meninas                Las tres Gracias   \n",
       "3  The Nobleman with his Hand on his Chest  The Garden of Earthly Delights   \n",
       "\n",
       "  origin_timestamp destination_timestamp  edge_weight  \n",
       "0          0:00:00        0:00:14.774581       430.12  \n",
       "1   0:00:18.108925        0:00:26.812310       378.95  \n",
       "2   0:00:32.783864        0:00:45.401988       574.00  \n",
       "3   0:01:02.533413        0:01:09.103468       528.30  "
      ]
     },
     "metadata": {},
     "output_type": "display_data"
    },
    {
     "name": "stdout",
     "output_type": "stream",
     "text": [
      "\n",
      "\n",
      "-------------------\n",
      "TOTAL VISITS: 1\n"
     ]
    }
   ],
   "source": [
    "# Make a list where each element is a dataframe representing each different visit\n",
    "visits_dfs = []\n",
    "for visit in valid_visits:\n",
    "    df = pd.DataFrame.from_dict(visit)\n",
    "    visits_dfs.append(df)\n",
    "\n",
    "# Print Info on Visits\n",
    "for idx, visit_df in enumerate(visits_dfs):\n",
    "    \n",
    "    print(\"**************\")\n",
    "    print(f\"Visit {idx+1}\")\n",
    "    print(\"**************\")\n",
    "    \n",
    "    display(df.head())\n",
    "    print(\"\\n\")\n",
    "    \n",
    "print(\"-------------------\")\n",
    "print(f\"TOTAL VISITS: {len(visits_dfs)}\")"
   ]
  },
  {
   "cell_type": "code",
   "execution_count": null,
   "id": "61c5c5a0-3c0a-4e95-93ad-418506ac7848",
   "metadata": {},
   "outputs": [],
   "source": []
  }
 ],
 "metadata": {
  "kernelspec": {
   "display_name": "Python 3 (ipykernel)",
   "language": "python",
   "name": "python3"
  },
  "language_info": {
   "codemirror_mode": {
    "name": "ipython",
    "version": 3
   },
   "file_extension": ".py",
   "mimetype": "text/x-python",
   "name": "python",
   "nbconvert_exporter": "python",
   "pygments_lexer": "ipython3",
   "version": "3.8.13"
  }
 },
 "nbformat": 4,
 "nbformat_minor": 5
}
