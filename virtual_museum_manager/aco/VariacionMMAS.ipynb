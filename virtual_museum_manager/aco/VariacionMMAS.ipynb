{
 "cells": [
  {
   "cell_type": "code",
   "execution_count": 1,
   "id": "24fb00f3-3777-4195-bb79-430d6fcdc535",
   "metadata": {},
   "outputs": [],
   "source": [
    "from aco_final.MuseumGraphManager import MuseumGraphManager\n",
    "from aco_final.AlgorithmController import AlgorithmController\n",
    "import json"
   ]
  },
  {
   "cell_type": "code",
   "execution_count": 2,
   "id": "ecf02994-e210-43b5-bb27-05e7654f2dcf",
   "metadata": {},
   "outputs": [],
   "source": [
    "with open('../resources/space.json', 'r') as f:\n",
    "    rooms_json = json.load(f)"
   ]
  },
  {
   "cell_type": "code",
   "execution_count": 13,
   "id": "ef23cbaf-8e59-464a-8526-c69fca39f113",
   "metadata": {},
   "outputs": [],
   "source": [
    "gm = MuseumGraphManager(rooms_json)"
   ]
  },
  {
   "cell_type": "code",
   "execution_count": 20,
   "id": "20b56704-4294-4e5f-bffe-b8e0424b17f7",
   "metadata": {},
   "outputs": [],
   "source": [
    "params = {\n",
    "    'graph_manager': gm,\n",
    "    'alpha' : 1,\n",
    "    'beta': 2,\n",
    "    'rho' : 0.02,\n",
    "    'pts': True,\n",
    "    'pts_factor':1,\n",
    "    'num_ants': len(gm.door_graph.nodes()),\n",
    "    'start_room': 6,\n",
    "    'start_node': 'D1-1'\n",
    "}\n",
    "controller = AlgorithmController(**params)"
   ]
  },
  {
   "cell_type": "code",
   "execution_count": 23,
   "id": "4731064c-b3d7-448b-977b-fa3f01cc6cb2",
   "metadata": {},
   "outputs": [
    {
     "name": "stdout",
     "output_type": "stream",
     "text": [
      "Starting mmas algorithm with 100 initial iterations.\n",
      "Finished computing the initial 100 iterations\n"
     ]
    }
   ],
   "source": [
    "controller.compute_initial_iterations(limit=100)"
   ]
  },
  {
   "cell_type": "code",
   "execution_count": 24,
   "id": "859f93c7-3103-42cc-b624-0d61e87c32ad",
   "metadata": {},
   "outputs": [
    {
     "name": "stdout",
     "output_type": "stream",
     "text": [
      "71505.35999999996\n",
      "[('D1-1', 'D1-5'), ('D1-5', 'The Annunciation'), ('The Annunciation', 'D1-5'), ('D1-5', 'The Cardinal'), ('The Cardinal', 'D3-5'), ('D3-5', 'D4-5'), ('D4-5', 'The Immaculate Conception'), ('The Immaculate Conception', 'D2-4'), ('D2-4', \"Jacob's Dream\"), (\"Jacob's Dream\", 'D2-11'), ('D2-11', 'D2-4'), ('D2-4', 'D3-4'), ('D3-4', 'Self-portrait'), ('Self-portrait', 'D3-5'), ('D3-5', 'D2-3'), ('D2-3', 'D1-2'), ('D1-2', 'Las tres Gracias'), ('Las tres Gracias', 'D1-13'), ('D1-13', 'D1-10'), ('D1-10', 'D1-5'), ('D1-5', 'The Nobleman with his Hand on his Chest'), ('The Nobleman with his Hand on his Chest', 'The Annunciation'), ('The Annunciation', 'D1-5'), ('D1-5', 'The Cardinal'), ('The Cardinal', 'D4-5'), ('D4-5', 'D1-5'), ('D1-5', 'The Cardinal'), ('The Cardinal', 'D1-5'), ('D1-5', 'D1-1'), ('D1-1', 'Las Meninas'), ('Las Meninas', 'D1-5'), ('D1-5', 'D4-5'), ('D4-5', 'D3-4'), ('D3-4', 'D2-3'), ('D2-3', 'D3-5'), ('D3-5', 'D1-5'), ('D1-5', 'The Annunciation'), ('The Annunciation', 'D1-1'), ('D1-1', 'D1-8'), ('D1-8', 'The Annunciation'), ('The Annunciation', 'D1-5'), ('D1-5', 'D3-5'), ('D3-5', 'The Cardinal'), ('The Cardinal', 'D3-5'), ('D3-5', 'D3-4'), ('D3-4', 'D3-5'), ('D3-5', 'D2-3'), ('D2-3', 'D2-4'), ('D2-4', 'The Immaculate Conception'), ('The Immaculate Conception', 'D2-4'), ('D2-4', 'D2-3'), ('D2-3', 'Self-portrait'), ('Self-portrait', 'D2-3'), ('D2-3', 'D2-11'), ('D2-11', 'D11-12'), ('D11-12', 'D2-11'), ('D2-11', 'The Crucifixion'), ('The Crucifixion', 'D10-11'), ('D10-11', 'The 3rd of May 1808 in Madrid, or “The Executions”'), ('The 3rd of May 1808 in Madrid, or “The Executions”', 'D1-10'), ('D1-10', 'The Garden of Earthly Delights'), ('The Garden of Earthly Delights', 'The Nobleman with his Hand on his Chest'), ('The Nobleman with his Hand on his Chest', 'D1-13'), ('D1-13', 'Las tres Gracias'), ('Las tres Gracias', 'The Nobleman with his Hand on his Chest'), ('The Nobleman with his Hand on his Chest', 'D1-10'), ('D1-10', 'D10-12'), ('D10-12', 'A la deriva'), ('A la deriva', 'D10-12'), ('D10-12', 'Guitar and Newspaper'), ('Guitar and Newspaper', 'D11-12'), ('D11-12', 'D2-11'), ('D2-11', 'The Crucifixion'), ('The Crucifixion', 'Christ falls on the Way to Calvary'), ('Christ falls on the Way to Calvary', 'D10-11'), ('D10-11', 'Hercules fighting the Nemean Lion'), ('Hercules fighting the Nemean Lion', 'D10-11'), ('D10-11', 'The Crucifixion'), ('The Crucifixion', 'D2-11'), ('D2-11', 'D11-12'), ('D11-12', 'D10-11'), ('D10-11', 'The 3rd of May 1808 in Madrid, or “The Executions”'), ('The 3rd of May 1808 in Madrid, or “The Executions”', 'Hercules fighting the Nemean Lion'), ('Hercules fighting the Nemean Lion', 'D10-12'), ('D10-12', 'D11-12'), ('D11-12', 'D10-12'), ('D10-12', 'D10-11'), ('D10-11', 'D11-12'), ('D11-12', 'A la deriva'), ('A la deriva', 'D10-12'), ('D10-12', 'D1-10'), ('D1-10', 'D1-2'), ('D1-2', 'D1-5'), ('D1-5', 'D1-1'), ('D1-1', 'D1-5'), ('D1-5', 'The Annunciation'), ('The Annunciation', 'D1-8'), ('D1-8', 'D1-1'), ('D1-1', 'D1-5'), ('D1-5', 'The Annunciation'), ('The Annunciation', 'Las Meninas'), ('Las Meninas', 'D1-8'), ('D1-8', 'D7-8'), ('D7-8', 'The Surrender of Breda'), ('The Surrender of Breda', 'D7-8'), ('D7-8', 'D7-9'), ('D7-9', 'Venus and Adonis'), ('Venus and Adonis', 'D7-9'), ('D7-9', 'D7-8'), ('D7-8', 'D1-8'), ('D1-8', 'Judith at the Banquet of Holofernes'), ('Judith at the Banquet of Holofernes', 'D1-8'), ('D1-8', 'D7-8'), ('D7-8', 'The Surrender of Breda'), ('The Surrender of Breda', 'D7-9'), ('D7-9', 'D7-14'), ('D7-14', 'D14-15'), ('D14-15', 'Gaspar de Guzmán, Count-Duke of Olivares, on Horseback'), ('Gaspar de Guzmán, Count-Duke of Olivares, on Horseback', 'D14-15'), ('D14-15', 'D7-14'), ('D7-14', 'Guernica'), ('Guernica', 'D7-14'), ('D7-14', 'D7-8'), ('D7-8', 'D7-9'), ('D7-9', 'D7-8'), ('D7-8', 'D7-9'), ('D7-9', 'D7-14'), ('D7-14', 'D6-7'), ('D6-7', 'D7-14'), ('D7-14', 'D6-7'), ('D6-7', 'D1-6'), ('D1-6', 'D6-13'), ('D6-13', 'Landscape with Psyche and Jupiter'), ('Landscape with Psyche and Jupiter', 'D13-14'), ('D13-14', 'D14-15'), ('D14-15', 'Guernica'), ('Guernica', 'D13-14'), ('D13-14', 'The Meadow of San Isidro'), ('The Meadow of San Isidro', 'Landscape with Psyche and Jupiter'), ('Landscape with Psyche and Jupiter', 'D13-14'), ('D13-14', 'D14-15'), ('D14-15', 'Gaspar de Guzmán, Count-Duke of Olivares, on Horseback'), ('Gaspar de Guzmán, Count-Duke of Olivares, on Horseback', 'D14-15'), ('D14-15', 'Guernica'), ('Guernica', 'D14-15'), ('D14-15', 'Gaspar de Guzmán, Count-Duke of Olivares, on Horseback'), ('Gaspar de Guzmán, Count-Duke of Olivares, on Horseback', 'D14-15'), ('D14-15', 'D13-14'), ('D13-14', 'Landscape with Psyche and Jupiter'), ('Landscape with Psyche and Jupiter', 'D6-13'), ('D6-13', 'Saturn'), ('Saturn', 'The Meadow of San Isidro'), ('The Meadow of San Isidro', 'D13-14'), ('D13-14', 'Landscape with Psyche and Jupiter'), ('Landscape with Psyche and Jupiter', 'D6-13'), ('D6-13', 'D13-14'), ('D13-14', 'The Meadow of San Isidro'), ('The Meadow of San Isidro', 'D13-14'), ('D13-14', 'Landscape with Psyche and Jupiter'), ('Landscape with Psyche and Jupiter', 'D6-13'), ('D6-13', 'D13-14'), ('D13-14', 'Landscape with Psyche and Jupiter'), ('Landscape with Psyche and Jupiter', 'D13-14'), ('D13-14', 'The Meadow of San Isidro'), ('The Meadow of San Isidro', 'Landscape with Psyche and Jupiter'), ('Landscape with Psyche and Jupiter', 'D6-13'), ('D6-13', 'D13-14'), ('D13-14', 'The Meadow of San Isidro'), ('The Meadow of San Isidro', 'Saturn'), ('Saturn', 'D13-14'), ('D13-14', 'Landscape with Psyche and Jupiter'), ('Landscape with Psyche and Jupiter', 'D13-14'), ('D13-14', 'D14-15'), ('D14-15', 'D7-14'), ('D7-14', 'D7-9'), ('D7-9', 'D7-14'), ('D7-14', 'The Surrender of Breda'), ('The Surrender of Breda', 'D7-8'), ('D7-8', 'D6-7'), ('D6-7', 'David with the Head of Goliath')]\n"
     ]
    }
   ],
   "source": [
    "state = controller.algorithm_states[0]\n",
    "best_cost = state.record.cost\n",
    "best_path = state.record.path\n",
    "print(best_cost)\n",
    "print(best_path)"
   ]
  }
 ],
 "metadata": {
  "kernelspec": {
   "display_name": "Python 3 (ipykernel)",
   "language": "python",
   "name": "python3"
  },
  "language_info": {
   "codemirror_mode": {
    "name": "ipython",
    "version": 3
   },
   "file_extension": ".py",
   "mimetype": "text/x-python",
   "name": "python",
   "nbconvert_exporter": "python",
   "pygments_lexer": "ipython3",
   "version": "3.8.10"
  }
 },
 "nbformat": 4,
 "nbformat_minor": 5
}
