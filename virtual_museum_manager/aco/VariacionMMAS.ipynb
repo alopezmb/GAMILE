{
 "cells": [
  {
   "cell_type": "code",
   "execution_count": 3,
   "id": "24fb00f3-3777-4195-bb79-430d6fcdc535",
   "metadata": {},
   "outputs": [
    {
     "ename": "ModuleNotFoundError",
     "evalue": "No module named 'aco'",
     "output_type": "error",
     "traceback": [
      "\u001b[0;31m---------------------------------------------------------------------------\u001b[0m",
      "\u001b[0;31mModuleNotFoundError\u001b[0m                       Traceback (most recent call last)",
      "Cell \u001b[0;32mIn[3], line 2\u001b[0m\n\u001b[1;32m      1\u001b[0m \u001b[38;5;28;01mfrom\u001b[39;00m \u001b[38;5;21;01maco_final\u001b[39;00m\u001b[38;5;21;01m.\u001b[39;00m\u001b[38;5;21;01mMuseumGraphManager\u001b[39;00m \u001b[38;5;28;01mimport\u001b[39;00m MuseumGraphManager\n\u001b[0;32m----> 2\u001b[0m \u001b[38;5;28;01mfrom\u001b[39;00m \u001b[38;5;21;01maco_final\u001b[39;00m\u001b[38;5;21;01m.\u001b[39;00m\u001b[38;5;21;01mAlgorithmController\u001b[39;00m \u001b[38;5;28;01mimport\u001b[39;00m AlgorithmController\n\u001b[1;32m      3\u001b[0m \u001b[38;5;28;01mimport\u001b[39;00m \u001b[38;5;21;01mjson\u001b[39;00m\n",
      "File \u001b[0;32m~/Desktop/tfm/virtual_museum_iml/virtual_museum_manager/aco/aco_final/AlgorithmController.py:4\u001b[0m\n\u001b[1;32m      1\u001b[0m \u001b[38;5;28;01mimport\u001b[39;00m \u001b[38;5;21;01mpickle\u001b[39;00m\n\u001b[1;32m      2\u001b[0m \u001b[38;5;28;01mfrom\u001b[39;00m \u001b[38;5;21;01mcopy\u001b[39;00m \u001b[38;5;28;01mimport\u001b[39;00m deepcopy\n\u001b[0;32m----> 4\u001b[0m \u001b[38;5;28;01mfrom\u001b[39;00m \u001b[38;5;21;01maco\u001b[39;00m\u001b[38;5;21;01m.\u001b[39;00m\u001b[38;5;21;01maco_final\u001b[39;00m\u001b[38;5;21;01m.\u001b[39;00m\u001b[38;5;21;01mant\u001b[39;00m \u001b[38;5;28;01mimport\u001b[39;00m Colony\n\u001b[1;32m      5\u001b[0m \u001b[38;5;28;01mfrom\u001b[39;00m \u001b[38;5;21;01maco\u001b[39;00m\u001b[38;5;21;01m.\u001b[39;00m\u001b[38;5;21;01maco_final\u001b[39;00m\u001b[38;5;21;01m.\u001b[39;00m\u001b[38;5;21;01msolvers\u001b[39;00m \u001b[38;5;28;01mimport\u001b[39;00m Solver\n\u001b[1;32m      8\u001b[0m \u001b[38;5;28;01mclass\u001b[39;00m \u001b[38;5;21;01mAlgorithmController\u001b[39;00m:\n",
      "\u001b[0;31mModuleNotFoundError\u001b[0m: No module named 'aco'"
     ]
    }
   ],
   "source": [
    "from aco_final.MuseumGraphManager import MuseumGraphManager\n",
    "from aco_final.AlgorithmController import AlgorithmController\n",
    "import json"
   ]
  },
  {
   "cell_type": "code",
   "execution_count": 2,
   "id": "ecf02994-e210-43b5-bb27-05e7654f2dcf",
   "metadata": {},
   "outputs": [],
   "source": [
    "with open('../resources/space.json', 'r') as f:\n",
    "    rooms_json = json.load(f)"
   ]
  },
  {
   "cell_type": "code",
   "execution_count": 3,
   "id": "ef23cbaf-8e59-464a-8526-c69fca39f113",
   "metadata": {},
   "outputs": [],
   "source": [
    "gm = MuseumGraphManager(rooms_json)"
   ]
  },
  {
   "cell_type": "code",
   "execution_count": 4,
   "id": "20b56704-4294-4e5f-bffe-b8e0424b17f7",
   "metadata": {},
   "outputs": [],
   "source": [
    "params = {\n",
    "    'graph_manager': gm,\n",
    "    'alpha' : 1,\n",
    "    'beta': 2,\n",
    "    'rho' : 0.02,\n",
    "    'pts': True,\n",
    "    'pts_factor':1,\n",
    "    'num_ants': len(gm.door_graph.nodes()),\n",
    "    'start_room': 6,\n",
    "    'start_node': 'D1-1'\n",
    "}\n",
    "controller = AlgorithmController(**params)"
   ]
  },
  {
   "cell_type": "code",
   "execution_count": 5,
   "id": "4731064c-b3d7-448b-977b-fa3f01cc6cb2",
   "metadata": {},
   "outputs": [
    {
     "name": "stdout",
     "output_type": "stream",
     "text": [
      "Starting mmas algorithm with 10 initial iterations.\n"
     ]
    },
    {
     "name": "stderr",
     "output_type": "stream",
     "text": [
      "/home/alejandro/Desktop/tfm/virtual_museum_iml/virtual_museum_manager/aco/aco_final/ant.py:317: RuntimeWarning: overflow encountered in double_scalars\n",
      "  total = sum(scores)\n",
      "/home/alejandro/Desktop/tfm/virtual_museum_iml/virtual_museum_manager/aco/aco_final/ant.py:318: RuntimeWarning: overflow encountered in double_scalars\n",
      "  cumdist = list(itertools.accumulate(scores)) + [total]\n"
     ]
    },
    {
     "name": "stdout",
     "output_type": "stream",
     "text": [
      "Finished computing the initial 10 iterations\n"
     ]
    }
   ],
   "source": [
    "controller.compute_initial_iterations(limit=10)"
   ]
  },
  {
   "cell_type": "code",
   "execution_count": 6,
   "id": "859f93c7-3103-42cc-b624-0d61e87c32ad",
   "metadata": {},
   "outputs": [
    {
     "name": "stdout",
     "output_type": "stream",
     "text": [
      "58107.38999999997\n",
      "[('D1-1', 'D1-8'), ('D1-8', 'Judith at the Banquet of Holofernes'), ('Judith at the Banquet of Holofernes', 'D7-8'), ('D7-8', 'The Surrender of Breda'), ('The Surrender of Breda', 'D7-14'), ('D7-14', 'D6-7'), ('D6-7', 'David with the Head of Goliath'), ('David with the Head of Goliath', 'D6-13'), ('D6-13', 'Landscape with Psyche and Jupiter'), ('Landscape with Psyche and Jupiter', 'The Meadow of San Isidro'), ('The Meadow of San Isidro', 'D13-14'), ('D13-14', 'D14-15'), ('D14-15', 'Guernica'), ('Guernica', 'D14-15'), ('D14-15', 'Gaspar de Guzmán, Count-Duke of Olivares, on Horseback'), ('Gaspar de Guzmán, Count-Duke of Olivares, on Horseback', 'D14-15'), ('D14-15', 'D7-14'), ('D7-14', 'D6-7'), ('D6-7', 'D6-13'), ('D6-13', 'Saturn'), ('Saturn', 'D1-13'), ('D1-13', 'Las tres Gracias'), ('Las tres Gracias', 'D1-6'), ('D1-6', 'Las Meninas'), ('Las Meninas', 'D1-8'), ('D1-8', 'D1-6'), ('D1-6', 'Las Meninas'), ('Las Meninas', 'D1-8'), ('D1-8', 'D1-1'), ('D1-1', 'D1-5'), ('D1-5', 'The Annunciation'), ('The Annunciation', 'Las Meninas'), ('Las Meninas', 'D1-8'), ('D1-8', 'D1-1'), ('D1-1', 'D1-6'), ('D1-6', 'D1-8'), ('D1-8', 'D1-1'), ('D1-1', 'D1-5'), ('D1-5', 'D1-13'), ('D1-13', 'D1-5'), ('D1-5', 'D3-5'), ('D3-5', 'D2-3'), ('D2-3', 'D3-5'), ('D3-5', 'D1-5'), ('D1-5', 'D4-5'), ('D4-5', 'D3-4'), ('D3-4', 'D2-4'), ('D2-4', \"Jacob's Dream\"), (\"Jacob's Dream\", 'D2-4'), ('D2-4', 'The Immaculate Conception'), ('The Immaculate Conception', 'D2-4'), ('D2-4', \"Jacob's Dream\"), (\"Jacob's Dream\", 'D2-11'), ('D2-11', 'D11-12'), ('D11-12', 'D10-12'), ('D10-12', 'Hercules fighting the Nemean Lion'), ('Hercules fighting the Nemean Lion', 'D10-12'), ('D10-12', 'D11-12'), ('D11-12', 'D2-11'), ('D2-11', 'The Crucifixion'), ('The Crucifixion', 'D11-12'), ('D11-12', 'Christ falls on the Way to Calvary'), ('Christ falls on the Way to Calvary', 'D10-11'), ('D10-11', 'Hercules fighting the Nemean Lion'), ('Hercules fighting the Nemean Lion', 'D1-10'), ('D1-10', 'The Garden of Earthly Delights'), ('The Garden of Earthly Delights', 'The Nobleman with his Hand on his Chest'), ('The Nobleman with his Hand on his Chest', 'D1-10'), ('D1-10', 'D10-12'), ('D10-12', 'Guitar and Newspaper'), ('Guitar and Newspaper', 'D11-12'), ('D11-12', 'A la deriva'), ('A la deriva', 'D11-12'), ('D11-12', 'D10-12'), ('D10-12', 'Hercules fighting the Nemean Lion'), ('Hercules fighting the Nemean Lion', 'The 3rd of May 1808 in Madrid, or “The Executions”'), ('The 3rd of May 1808 in Madrid, or “The Executions”', 'D10-11'), ('D10-11', 'Hercules fighting the Nemean Lion'), ('Hercules fighting the Nemean Lion', 'D10-11'), ('D10-11', 'D11-12'), ('D11-12', 'Guitar and Newspaper'), ('Guitar and Newspaper', 'A la deriva'), ('A la deriva', 'D10-12'), ('D10-12', 'Hercules fighting the Nemean Lion'), ('Hercules fighting the Nemean Lion', 'D10-12'), ('D10-12', 'Guitar and Newspaper'), ('Guitar and Newspaper', 'D10-12'), ('D10-12', 'D10-11'), ('D10-11', 'Christ falls on the Way to Calvary'), ('Christ falls on the Way to Calvary', 'D11-12'), ('D11-12', 'D2-11'), ('D2-11', 'D10-11'), ('D10-11', 'The Crucifixion'), ('The Crucifixion', 'Christ falls on the Way to Calvary'), ('Christ falls on the Way to Calvary', 'D10-11'), ('D10-11', 'D11-12'), ('D11-12', 'D10-12'), ('D10-12', 'D10-11'), ('D10-11', 'Christ falls on the Way to Calvary'), ('Christ falls on the Way to Calvary', 'D10-11'), ('D10-11', 'Hercules fighting the Nemean Lion'), ('Hercules fighting the Nemean Lion', 'D10-12'), ('D10-12', 'D11-12'), ('D11-12', 'The Crucifixion'), ('The Crucifixion', 'D2-11'), ('D2-11', 'D11-12'), ('D11-12', 'D10-12'), ('D10-12', 'Guitar and Newspaper'), ('Guitar and Newspaper', 'A la deriva'), ('A la deriva', 'D10-12'), ('D10-12', 'D11-12'), ('D11-12', 'D2-11'), ('D2-11', 'D10-11'), ('D10-11', 'Christ falls on the Way to Calvary'), ('Christ falls on the Way to Calvary', 'D11-12'), ('D11-12', 'A la deriva'), ('A la deriva', 'D10-12'), ('D10-12', 'D1-10'), ('D1-10', 'The Garden of Earthly Delights'), ('The Garden of Earthly Delights', 'D1-10'), ('D1-10', 'D10-12'), ('D10-12', 'D1-10'), ('D1-10', 'The Annunciation'), ('The Annunciation', 'D1-5'), ('D1-5', 'The Cardinal'), ('The Cardinal', 'D4-5'), ('D4-5', 'D3-4'), ('D3-4', 'D2-3'), ('D2-3', 'Self-portrait'), ('Self-portrait', 'D2-3'), ('D2-3', 'D3-5'), ('D3-5', 'D4-5'), ('D4-5', 'D2-4'), ('D2-4', 'D1-2'), ('D1-2', 'D1-5'), ('D1-5', 'D1-8'), ('D1-8', 'Las Meninas'), ('Las Meninas', 'D1-8'), ('D1-8', 'Judith at the Banquet of Holofernes'), ('Judith at the Banquet of Holofernes', 'D7-8'), ('D7-8', 'The Surrender of Breda'), ('The Surrender of Breda', 'D7-9'), ('D7-9', 'Venus and Adonis')]\n"
     ]
    }
   ],
   "source": [
    "state = controller.algorithm_states[0]\n",
    "best_cost = state.record.cost\n",
    "best_path = state.record.path\n",
    "print(best_cost)\n",
    "print(best_path)"
   ]
  },
  {
   "cell_type": "code",
   "execution_count": 8,
   "id": "c076a17b-281f-49fe-9c8e-55d9ef53ca71",
   "metadata": {},
   "outputs": [],
   "source": [
    "import pickle\n",
    "pickle.dump(state.graph, open('virtual_museum_mmas.pickle', 'wb'))\n",
    "\n",
    "# load graph object from file\n",
    "# G = pickle.load(open('filename.pickle', 'rb'))"
   ]
  }
 ],
 "metadata": {
  "kernelspec": {
   "display_name": "Python 3 (ipykernel)",
   "language": "python",
   "name": "python3"
  },
  "language_info": {
   "codemirror_mode": {
    "name": "ipython",
    "version": 3
   },
   "file_extension": ".py",
   "mimetype": "text/x-python",
   "name": "python",
   "nbconvert_exporter": "python",
   "pygments_lexer": "ipython3",
   "version": "3.8.10"
  }
 },
 "nbformat": 4,
 "nbformat_minor": 5
}
